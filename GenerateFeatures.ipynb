{
 "cells": [
  {
   "cell_type": "code",
   "execution_count": 29,
   "metadata": {},
   "outputs": [],
   "source": [
    "import pandas as pd\n",
    "import numpy as np\n",
    "from math import sqrt"
   ]
  },
  {
   "cell_type": "code",
   "execution_count": 30,
   "metadata": {},
   "outputs": [
    {
     "data": {
      "text/html": [
       "<div>\n",
       "<style scoped>\n",
       "    .dataframe tbody tr th:only-of-type {\n",
       "        vertical-align: middle;\n",
       "    }\n",
       "\n",
       "    .dataframe tbody tr th {\n",
       "        vertical-align: top;\n",
       "    }\n",
       "\n",
       "    .dataframe thead th {\n",
       "        text-align: right;\n",
       "    }\n",
       "</style>\n",
       "<table border=\"1\" class=\"dataframe\">\n",
       "  <thead>\n",
       "    <tr style=\"text-align: right;\">\n",
       "      <th></th>\n",
       "      <th>geohash6</th>\n",
       "      <th>day</th>\n",
       "      <th>demand</th>\n",
       "      <th>hour</th>\n",
       "      <th>minute</th>\n",
       "      <th>sin_hour</th>\n",
       "      <th>cos_hour</th>\n",
       "    </tr>\n",
       "  </thead>\n",
       "  <tbody>\n",
       "    <tr>\n",
       "      <th>0</th>\n",
       "      <td>qp09sx</td>\n",
       "      <td>1</td>\n",
       "      <td>0.021212</td>\n",
       "      <td>0</td>\n",
       "      <td>0</td>\n",
       "      <td>0.0</td>\n",
       "      <td>1.0</td>\n",
       "    </tr>\n",
       "    <tr>\n",
       "      <th>1</th>\n",
       "      <td>qp0dhg</td>\n",
       "      <td>1</td>\n",
       "      <td>0.013217</td>\n",
       "      <td>0</td>\n",
       "      <td>0</td>\n",
       "      <td>0.0</td>\n",
       "      <td>1.0</td>\n",
       "    </tr>\n",
       "    <tr>\n",
       "      <th>2</th>\n",
       "      <td>qp03x5</td>\n",
       "      <td>1</td>\n",
       "      <td>0.157956</td>\n",
       "      <td>0</td>\n",
       "      <td>0</td>\n",
       "      <td>0.0</td>\n",
       "      <td>1.0</td>\n",
       "    </tr>\n",
       "    <tr>\n",
       "      <th>3</th>\n",
       "      <td>qp09bw</td>\n",
       "      <td>1</td>\n",
       "      <td>0.001262</td>\n",
       "      <td>0</td>\n",
       "      <td>0</td>\n",
       "      <td>0.0</td>\n",
       "      <td>1.0</td>\n",
       "    </tr>\n",
       "    <tr>\n",
       "      <th>4</th>\n",
       "      <td>qp03wn</td>\n",
       "      <td>1</td>\n",
       "      <td>0.032721</td>\n",
       "      <td>0</td>\n",
       "      <td>0</td>\n",
       "      <td>0.0</td>\n",
       "      <td>1.0</td>\n",
       "    </tr>\n",
       "  </tbody>\n",
       "</table>\n",
       "</div>"
      ],
      "text/plain": [
       "  geohash6  day    demand  hour  minute  sin_hour  cos_hour\n",
       "0   qp09sx    1  0.021212     0       0       0.0       1.0\n",
       "1   qp0dhg    1  0.013217     0       0       0.0       1.0\n",
       "2   qp03x5    1  0.157956     0       0       0.0       1.0\n",
       "3   qp09bw    1  0.001262     0       0       0.0       1.0\n",
       "4   qp03wn    1  0.032721     0       0       0.0       1.0"
      ]
     },
     "execution_count": 30,
     "metadata": {},
     "output_type": "execute_result"
    }
   ],
   "source": [
    "# Order by time\n",
    "df = pd.read_csv('training.csv')\n",
    "df['hour'] = df['timestamp'].apply(lambda x: int(x.split(':')[0]))\n",
    "df['minute'] = df['timestamp'].apply(lambda x: int(x.split(':')[1]))\n",
    "df['sin_hour'] = np.sin(df.hour*(2.*np.pi/24))\n",
    "df['cos_hour'] = np.cos(df.hour*(2.*np.pi/24))\n",
    "df = df.sort_values(by=['day','hour','minute'])\n",
    "df.reset_index(0,drop=True,inplace=True)\n",
    "df.drop('timestamp',axis=1,inplace=True)\n",
    "df.head()"
   ]
  },
  {
   "cell_type": "code",
   "execution_count": 31,
   "metadata": {},
   "outputs": [],
   "source": [
    "# map static values\n",
    "static = pd.read_hdf('staticValues.h5')\n",
    "LongDict = dict(zip(static.geohash6,static.long))\n",
    "LatDict = dict(zip(static.geohash6,static.lat))\n",
    "ZoneDict = dict(zip(static.geohash6,static.zone))\n",
    "distTo5Dict = dict(zip(static.geohash6,static.dist_to_high_demand5))\n",
    "distTo7Dict = dict(zip(static.geohash6,static.dist_to_7))\n",
    "totalDistDict = dict(zip(static.geohash6,static.totalDist))\n",
    "xDict = dict(zip(static.geohash6,static.x))\n",
    "yDict = dict(zip(static.geohash6,static.y))\n",
    "zDict = dict(zip(static.geohash6,static.z))\n",
    "df['long'] = df['geohash6'].map(LongDict)\n",
    "df['lat'] = df['geohash6'].map(LatDict)\n",
    "df['zone'] = df['geohash6'].map(ZoneDict)\n",
    "df['dist_to_high_demand5'] = df['geohash6'].map(distTo5Dict)\n",
    "df['dist_to_7'] = df['geohash6'].map(distTo7Dict)\n",
    "df['totalDist'] = df['geohash6'].map(totalDistDict)\n",
    "df['x'] = df['geohash6'].map(xDict)\n",
    "df['y'] = df['geohash6'].map(yDict)\n",
    "df['z'] = df['geohash6'].map(zDict)"
   ]
  },
  {
   "cell_type": "code",
   "execution_count": 32,
   "metadata": {},
   "outputs": [],
   "source": [
    "# Generate lagged values\n",
    "df['demand_s'] = df.groupby('geohash6')['demand'].shift(1)\n",
    "df['demand_s_2'] = df.groupby('geohash6')['demand'].shift(2)\n",
    "df['demand_s_3'] = df.groupby('geohash6')['demand'].shift(3)\n",
    "df['demand_s_4'] = df.groupby('geohash6')['demand'].shift(4)\n",
    "df['demand_s_5'] = df.groupby('geohash6')['demand'].shift(5)\n",
    "df['demand_s_6'] = df.groupby('geohash6')['demand'].shift(6)\n",
    "df['demand_s_7'] = df.groupby('geohash6')['demand'].shift(7)"
   ]
  },
  {
   "cell_type": "code",
   "execution_count": 33,
   "metadata": {},
   "outputs": [],
   "source": [
    "# Generate ratios and moving averages\n",
    "df['sum'] = df.groupby(['geohash6'])['demand_s'].cumsum()\n",
    "df['count'] = df.groupby(['geohash6'])['demand_s'].cumcount()\n",
    "df['mean'] = df['sum'] / df['count']\n",
    "df['min'] = df.groupby(['geohash6'])['demand_s'].cummin()\n",
    "df['max'] = df.groupby(['geohash6'])['demand_s'].cummax()\n",
    "df.drop(['sum','count'],axis=1,inplace=True)\n",
    "df['ma7'] = df.groupby(['geohash6'])['demand_s'].rolling(7).mean().reset_index(0,drop=True)\n",
    "df['ma14'] = df.groupby(['geohash6'])['demand_s'].rolling(14).mean().reset_index(0,drop=True)\n",
    "df['ma21'] = df.groupby(['geohash6'])['demand_s'].rolling(21).mean().reset_index(0,drop=True)\n",
    "df['ma50'] = df.groupby(['geohash6'])['demand_s'].rolling(50).mean().reset_index(0,drop=True)\n",
    "df['ma100'] = df.groupby(['geohash6'])['demand_s'].rolling(100).mean().reset_index(0,drop=True)\n",
    "df['std'] = df.groupby(['geohash6'])['demand_s'].expanding().std().reset_index(0,drop=True)"
   ]
  },
  {
   "cell_type": "code",
   "execution_count": 35,
   "metadata": {},
   "outputs": [],
   "source": [
    "# Generate zone and geohash moving averages\n",
    "df['zoneEma14'] = df.groupby(['zone'])['demand_s'].apply(lambda x: x.ewm(span=14).mean())\n",
    "df['zoneAverage'] = df.groupby(['zone'])['demand_s'].expanding().mean().reset_index(0,drop=True)\n",
    "df['geoEma7'] = df.groupby(['geohash6'])['demand_s'].apply(lambda x: x.ewm(span=7).mean())\n",
    "df['geoEma14'] = df.groupby(['geohash6'])['demand_s'].apply(lambda x: x.ewm(span=14).mean())\n",
    "df['ma100_med'] = df.groupby(['geohash6'])['demand_s'].rolling(100).median().reset_index(0,drop=True)\n",
    "df['geoEma7_var'] = df.groupby(['geohash6'])['demand_s'].apply(lambda x: x.ewm(span=7).var())"
   ]
  },
  {
   "cell_type": "code",
   "execution_count": 36,
   "metadata": {},
   "outputs": [],
   "source": [
    "# Generate last week's demand at same time\n",
    "df2 = df.copy(deep=True)\n",
    "df2['last_week_day'] = df2.day + 7\n",
    "df2 = df2[['geohash6','last_week_day','hour','minute','demand']]\n",
    "new_df = pd.merge(df, df2,  how='left', left_on=['geohash6','day','hour','minute'], right_on = ['geohash6','last_week_day','hour','minute'])\n",
    "df['demand_last_week'] = new_df['demand_y']"
   ]
  },
  {
   "cell_type": "code",
   "execution_count": 37,
   "metadata": {},
   "outputs": [],
   "source": [
    "# Generate percentage of high demand \n",
    "df['count'] = df.groupby(['geohash6'])['demand_s'].cumcount()\n",
    "df['high_demand'] = df['demand_s'].apply(lambda x: 1 if x>0.5 else 0)\n",
    "df['high_demand_count'] = df.groupby(['geohash6'])['high_demand'].cumsum()\n",
    "df['high_demand_perc'] = df['high_demand_count'] / df['count']"
   ]
  },
  {
   "cell_type": "code",
   "execution_count": 38,
   "metadata": {},
   "outputs": [
    {
     "data": {
      "text/plain": [
       "dayOfWeek\n",
       "1    620418\n",
       "2    629281\n",
       "3    633567\n",
       "4    632786\n",
       "5    610482\n",
       "6    524054\n",
       "7    555733\n",
       "Name: dayOfWeek, dtype: int64"
      ]
     },
     "execution_count": 38,
     "metadata": {},
     "output_type": "execute_result"
    }
   ],
   "source": [
    "# Generate day of week\n",
    "df['dayOfWeek'] = df['day'].apply(lambda x: x if x < 8 else x %7)\n",
    "df['dayOfWeek'] = df['dayOfWeek'].apply(lambda x: 7 if x == 0 else x)\n",
    "df.groupby('dayOfWeek')['dayOfWeek'].count()"
   ]
  },
  {
   "cell_type": "code",
   "execution_count": 39,
   "metadata": {},
   "outputs": [
    {
     "data": {
      "text/plain": [
       "<matplotlib.axes._subplots.AxesSubplot at 0x7f2b2127f588>"
      ]
     },
     "execution_count": 39,
     "metadata": {},
     "output_type": "execute_result"
    },
    {
     "data": {
      "image/png": "[encoded data removed]",
      "text/plain": [
       "<Figure size 432x288 with 1 Axes>"
      ]
     },
     "metadata": {},
     "output_type": "display_data"
    }
   ],
   "source": [
    "df.groupby(['hour'])['demand'].sum().plot()"
   ]
  },
  {
   "cell_type": "code",
   "execution_count": 40,
   "metadata": {},
   "outputs": [],
   "source": [
    "# Indicate peak hours\n",
    "df['peak'] = df['hour'].apply(lambda x: 1 if x < 15 else 0)"
   ]
  },
  {
   "cell_type": "code",
   "execution_count": 41,
   "metadata": {},
   "outputs": [],
   "source": [
    "# Generate moving averages of broader geohash zones\n",
    "df['geohash4'] = df.geohash6.str[3]\n",
    "df['geohash5'] = df.geohash6.str[4]\n",
    "df['geo4ZoneEma7'] = df.groupby(['geohash4'])['demand_s'].apply(lambda x: x.ewm(span=7).mean())\n",
    "df['geo5ZoneEma7'] = df.groupby(['geohash5'])['demand_s'].apply(lambda x: x.ewm(span=7).mean())\n",
    "df['geoEma7_2'] = df.groupby(['geohash4'])['demand_s_2'].apply(lambda x: x.ewm(span=7).mean())"
   ]
  },
  {
   "cell_type": "code",
   "execution_count": 42,
   "metadata": {},
   "outputs": [
    {
     "data": {
      "text/plain": [
       "(4206321, 45)"
      ]
     },
     "execution_count": 42,
     "metadata": {},
     "output_type": "execute_result"
    }
   ],
   "source": [
    "df.drop(['geohash5','geohash4','count','high_demand','high_demand_count'],axis=1,inplace=True)\n",
    "df.shape"
   ]
  },
  {
   "cell_type": "code",
   "execution_count": 43,
   "metadata": {},
   "outputs": [],
   "source": [
    "col2 = ['geohash6', 'day', 'long', 'lat', 'min', 'max', 'zone',\n",
    "       'dist_to_high_demand5', 'dist_to_7', 'hour', 'minute', 'demand_s',\n",
    "       'mean', 'ma7', 'ma14', 'ma21', 'ma50', 'ma100', 'std', 'zoneAverage',\n",
    "       'geoEma7', 'geoEma14', 'zoneEma14', 'dayOfWeek', 'peak', 'totalDist',\n",
    "       'sin_hour', 'cos_hour', 'demand_s_2', 'demand_s_3', 'demand_s_4',\n",
    "       'demand_s_5', 'demand_s_6', 'demand_s_7', 'geoEma7_2', 'x', 'y', 'z',\n",
    "       'geo4ZoneEma7', 'geo5ZoneEma7', 'high_demand_perc', 'geoEma7_var',\n",
    "       'ma100_med', 'demand_last_week', 'demand']\n",
    "df = df[col2]"
   ]
  },
  {
   "cell_type": "code",
   "execution_count": 44,
   "metadata": {},
   "outputs": [
    {
     "data": {
      "text/plain": [
       "Index(['geohash6', 'day', 'long', 'lat', 'min', 'max', 'zone',\n",
       "       'dist_to_high_demand5', 'dist_to_7', 'hour', 'minute', 'demand_s',\n",
       "       'mean', 'ma7', 'ma14', 'ma21', 'ma50', 'ma100', 'std', 'zoneAverage',\n",
       "       'geoEma7', 'geoEma14', 'zoneEma14', 'dayOfWeek', 'peak', 'totalDist',\n",
       "       'sin_hour', 'cos_hour', 'demand_s_2', 'demand_s_3', 'demand_s_4',\n",
       "       'demand_s_5', 'demand_s_6', 'demand_s_7', 'geoEma7_2', 'x', 'y', 'z',\n",
       "       'geo4ZoneEma7', 'geo5ZoneEma7', 'high_demand_perc', 'geoEma7_var',\n",
       "       'ma100_med', 'demand_last_week', 'demand'],\n",
       "      dtype='object')"
      ]
     },
     "execution_count": 44,
     "metadata": {},
     "output_type": "execute_result"
    }
   ],
   "source": [
    "df.columns"
   ]
  },
  {
   "cell_type": "code",
   "execution_count": null,
   "metadata": {},
   "outputs": [],
   "source": [
    "df.to_hdf('predict.h5',key='df',mode='w')"
   ]
  }
 ],
 "metadata": {
  "kernelspec": {
   "display_name": "conda_python3",
   "language": "python",
   "name": "conda_python3"
  },
  "language_info": {
   "codemirror_mode": {
    "name": "ipython",
    "version": 3
   },
   "file_extension": ".py",
   "mimetype": "text/x-python",
   "name": "python",
   "nbconvert_exporter": "python",
   "pygments_lexer": "ipython3",
   "version": "3.6.5"
  }
 },
 "nbformat": 4,
 "nbformat_minor": 2
}
